{
  "nbformat": 4,
  "nbformat_minor": 0,
  "metadata": {
    "colab": {
      "name": "Exercise1.ipynb",
      "provenance": [],
      "collapsed_sections": [],
      "authorship_tag": "ABX9TyNaZRdVP8X/YLpvkApNHfcS",
      "include_colab_link": true
    },
    "kernelspec": {
      "name": "python3",
      "display_name": "Python 3"
    },
    "language_info": {
      "name": "python"
    }
  },
  "cells": [
    {
      "cell_type": "markdown",
      "metadata": {
        "id": "view-in-github",
        "colab_type": "text"
      },
      "source": [
        "<a href=\"https://colab.research.google.com/github/Esteban-KellyBrend/WDD-58043/blob/main/Exercise1.ipynb\" target=\"_parent\"><img src=\"https://colab.research.google.com/assets/colab-badge.svg\" alt=\"Open In Colab\"/></a>"
      ]
    },
    {
      "cell_type": "code",
      "execution_count": 28,
      "metadata": {
        "colab": {
          "base_uri": "https://localhost:8080/"
        },
        "id": "V5Gag3JxUlAW",
        "outputId": "0cfed88a-0c7f-45ee-db10-19a90a5a6d06"
      },
      "outputs": [
        {
          "output_type": "stream",
          "name": "stdout",
          "text": [
            "Radius of the Circle: 10\n",
            "The Area of the Circle is:  314.1592653589793\n"
          ]
        }
      ],
      "source": [
        "from math import pi #To produce the value of π\n",
        "\n",
        "r = float (input(\"Radius of the Circle: \")) #Input the radius of the circle\n",
        "a = str(pi * r**2) #Formula for the area of the circle\n",
        "print (\"The Area of the Circle is: \", a) #Print the answer of the area of the circle"
      ]
    }
  ]
}